{
  "nbformat": 4,
  "nbformat_minor": 0,
  "metadata": {
    "colab": {
      "provenance": [],
      "gpuType": "V28",
      "toc_visible": true,
      "authorship_tag": "ABX9TyO2bOBDsHvDqBf53U6LXhsy",
      "include_colab_link": true
    },
    "kernelspec": {
      "name": "python3",
      "display_name": "Python 3"
    },
    "language_info": {
      "name": "python"
    },
    "accelerator": "TPU"
  },
  "cells": [
    {
      "cell_type": "markdown",
      "metadata": {
        "id": "view-in-github",
        "colab_type": "text"
      },
      "source": [
        "<a href=\"https://colab.research.google.com/github/imsumedhaa/FireDucks-in-Finance/blob/main/FireDucks_in_Finance.ipynb\" target=\"_parent\"><img src=\"https://colab.research.google.com/assets/colab-badge.svg\" alt=\"Open In Colab\"/></a>"
      ]
    },
    {
      "cell_type": "code",
      "execution_count": 1,
      "metadata": {
        "colab": {
          "base_uri": "https://localhost:8080/"
        },
        "id": "8S5VI7JLQtW2",
        "outputId": "3dc56303-bec6-49c4-d855-d1831523669b"
      },
      "outputs": [
        {
          "output_type": "stream",
          "name": "stdout",
          "text": [
            "Requirement already satisfied: fireducks in /usr/local/lib/python3.11/dist-packages (1.2.8)\n",
            "Requirement already satisfied: firefw==1.2.8 in /usr/local/lib/python3.11/dist-packages (from fireducks) (1.2.8)\n",
            "Requirement already satisfied: pandas<2.3.0,>=1.5.3 in /usr/local/lib/python3.11/dist-packages (from fireducks) (2.2.2)\n",
            "Requirement already satisfied: pyarrow<19.1,>=19.0 in /usr/local/lib/python3.11/dist-packages (from fireducks) (19.0.1)\n",
            "Requirement already satisfied: numpy>=1.23.2 in /usr/local/lib/python3.11/dist-packages (from pandas<2.3.0,>=1.5.3->fireducks) (2.0.2)\n",
            "Requirement already satisfied: python-dateutil>=2.8.2 in /usr/local/lib/python3.11/dist-packages (from pandas<2.3.0,>=1.5.3->fireducks) (2.9.0.post0)\n",
            "Requirement already satisfied: pytz>=2020.1 in /usr/local/lib/python3.11/dist-packages (from pandas<2.3.0,>=1.5.3->fireducks) (2025.2)\n",
            "Requirement already satisfied: tzdata>=2022.7 in /usr/local/lib/python3.11/dist-packages (from pandas<2.3.0,>=1.5.3->fireducks) (2025.2)\n",
            "Requirement already satisfied: six>=1.5 in /usr/local/lib/python3.11/dist-packages (from python-dateutil>=2.8.2->pandas<2.3.0,>=1.5.3->fireducks) (1.17.0)\n",
            "✅ Dataset with 10M rows created: financial_data.csv\n"
          ]
        }
      ],
      "source": [
        "# 1️⃣ Install and Set Up FireDucks\n",
        "!pip install fireducks\n",
        "\n",
        "import os\n",
        "os.environ[\"FIREDUCKS_FLAGS\"] = \"--benchmark-mode\"\n",
        "\n",
        "import pandas as pd\n",
        "import fireducks.pandas as fd\n",
        "import numpy as np\n",
        "import time\n",
        "df = pd.DataFrame({\n",
        "    \"account_id\": np.random.randint(10000, 50000, size=10_000_000),\n",
        "    \"region\": np.random.choice([\"North\", \"South\", \"East\", \"West\"], size=10_000_000),\n",
        "    \"amount\": np.random.exponential(scale=1200, size=10_000_000),\n",
        "    \"transaction_type\": np.random.choice([\"deposit\", \"withdrawal\", \"transfer\"], size=10_000_000),\n",
        "    \"timestamp\": pd.date_range(start=\"2023-01-01\", periods=10_000_000, freq='s')\n",
        "})\n",
        "df.to_csv(\"financial_data.csv\", index=False)\n",
        "print(\"✅ Dataset with 10M rows created: financial_data.csv\")"
      ]
    },
    {
      "cell_type": "code",
      "source": [
        "import platform\n",
        "import psutil\n",
        "import multiprocessing\n",
        "import pandas\n",
        "import fireducks\n",
        "\n",
        "print(\"🔍 System Information:\")\n",
        "print(f\"OS: {platform.system()} {platform.release()}\")\n",
        "print(f\"Processor: {platform.processor()}\")\n",
        "print(f\"CPU cores: {multiprocessing.cpu_count()}\")\n",
        "print(f\"Total RAM: {psutil.virtual_memory().total / (1024**3):.2f} GB\")\n",
        "\n",
        "print(\"\\n📦 Library Versions:\")\n",
        "print(f\"Pandas version: {pandas.__version__}\")\n",
        "print(f\"FireDucks version: {fireducks.__version__}\")\n"
      ],
      "metadata": {
        "colab": {
          "base_uri": "https://localhost:8080/"
        },
        "id": "feta44g1sZl1",
        "outputId": "edc5038a-3f9c-4d44-e5ab-db4bedcf232d"
      },
      "execution_count": 2,
      "outputs": [
        {
          "output_type": "stream",
          "name": "stdout",
          "text": [
            "🔍 System Information:\n",
            "OS: Linux 6.1.123+\n",
            "Processor: x86_64\n",
            "CPU cores: 2\n",
            "Total RAM: 12.67 GB\n",
            "\n",
            "📦 Library Versions:\n",
            "Pandas version: 2.2.2\n",
            "FireDucks version: 1.2.8\n"
          ]
        }
      ]
    },
    {
      "cell_type": "code",
      "source": [
        "#  Read CSV\n",
        "# Pandas\n",
        "start = time.time()\n",
        "pandas_df = pd.read_csv(\"financial_data.csv\")\n",
        "print(\"📄 Pandas Read Time:\", round((time.time() - start) * 1000, 2), \"ms\")\n",
        "\n",
        "# FireDucks\n",
        "start = time.time()\n",
        "fd_df = fd.read_csv(\"financial_data.csv\")\n",
        "print(\"🔥 FireDucks Read Time:\", round((time.time() - start) * 1000, 2), \"ms\")"
      ],
      "metadata": {
        "colab": {
          "base_uri": "https://localhost:8080/"
        },
        "id": "6wn-TJQ-Rimu",
        "outputId": "c24171b1-a9f9-44ba-9d36-909fb36a22f1"
      },
      "execution_count": null,
      "outputs": [
        {
          "output_type": "stream",
          "name": "stdout",
          "text": [
            "📄 Pandas Read Time: 9287.68 ms\n",
            "🔥 FireDucks Read Time: 1751.87 ms\n"
          ]
        }
      ]
    },
    {
      "cell_type": "code",
      "source": [
        "# Group by Region - Full Dataset\n",
        "start = time.time()\n",
        "pandas_grouped = pandas_df.groupby(\"region\")[\"amount\"].agg([\"mean\", \"sum\"]).reset_index()\n",
        "print(\"📊 Pandas GroupBy Time:\", round((time.time() - start) * 1000, 2), \"ms\")\n",
        "\n",
        "start = time.time()\n",
        "fd_grouped = fd_df.groupby(\"region\")[\"amount\"].agg([\"mean\", \"sum\"]).reset_index()\n",
        "print(\"🔥 FireDucks GroupBy Time:\", round((time.time() - start) * 1000, 2), \"ms\")"
      ],
      "metadata": {
        "colab": {
          "base_uri": "https://localhost:8080/"
        },
        "id": "1gpYkOgMSQ0c",
        "outputId": "027258bd-d979-4006-b5ac-69fac0884442"
      },
      "execution_count": null,
      "outputs": [
        {
          "output_type": "stream",
          "name": "stdout",
          "text": [
            "📊 Pandas GroupBy Time: 705.2 ms\n",
            "🔥 FireDucks GroupBy Time: 19.0 ms\n"
          ]
        }
      ]
    },
    {
      "cell_type": "code",
      "source": [
        "# Sort by Total Amount\n",
        "start = time.time()\n",
        "pandas_sorted = pandas_grouped.sort_values(by=\"sum\", ascending=False)\n",
        "print(\"🔽 Pandas Sort Time:\", round((time.time() - start) * 1000, 2), \"ms\")\n",
        "\n",
        "start = time.time()\n",
        "fd_sorted = fd_grouped.sort_values(by=\"sum\", ascending=False)\n",
        "print(\"🔥 FireDucks Sort Time:\", round((time.time() - start) * 1000, 2), \"ms\")"
      ],
      "metadata": {
        "colab": {
          "base_uri": "https://localhost:8080/"
        },
        "id": "Q_RzX2HZSXMK",
        "outputId": "ae020dc5-b176-4d57-81dd-13e64a182e28"
      },
      "execution_count": null,
      "outputs": [
        {
          "output_type": "stream",
          "name": "stdout",
          "text": [
            "🔽 Pandas Sort Time: 0.96 ms\n",
            "🔥 FireDucks Sort Time: 7.35 ms\n"
          ]
        }
      ]
    },
    {
      "cell_type": "code",
      "source": [
        "# Filter (amount > 5000)\n",
        "start = time.time()\n",
        "pandas_filtered = pandas_df[pandas_df['amount'] > 5000]\n",
        "print(\"📉 Pandas Filter Time:\", round((time.time() - start) * 1000, 2), \"ms\")\n",
        "\n",
        "start = time.time()\n",
        "fd_filtered = fd_df[fd_df['amount'] > 5000]\n",
        "print(\"🔥 FireDucks Filter Time:\", round((time.time() - start) * 1000, 2), \"ms\")"
      ],
      "metadata": {
        "colab": {
          "base_uri": "https://localhost:8080/"
        },
        "id": "k_-Bf1aZSjsv",
        "outputId": "7c6c2f02-77e6-41a8-aaf7-14e3fcae8937"
      },
      "execution_count": null,
      "outputs": [
        {
          "output_type": "stream",
          "name": "stdout",
          "text": [
            "📉 Pandas Filter Time: 70.42 ms\n",
            "🔥 FireDucks Filter Time: 25.06 ms\n"
          ]
        }
      ]
    }
  ]
}