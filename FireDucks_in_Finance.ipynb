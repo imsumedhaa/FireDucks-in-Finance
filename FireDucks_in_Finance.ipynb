{
  "nbformat": 4,
  "nbformat_minor": 0,
  "metadata": {
    "colab": {
      "provenance": [],
      "gpuType": "V28",
      "authorship_tag": "ABX9TyPvPaTfhD3T4sFtXytQZ8ku",
      "include_colab_link": true
    },
    "kernelspec": {
      "name": "python3",
      "display_name": "Python 3"
    },
    "language_info": {
      "name": "python"
    },
    "accelerator": "TPU"
  },
  "cells": [
    {
      "cell_type": "markdown",
      "metadata": {
        "id": "view-in-github",
        "colab_type": "text"
      },
      "source": [
        "<a href=\"https://colab.research.google.com/github/imsumedhaa/FireDucks-in-Finance/blob/main/FireDucks_in_Finance.ipynb\" target=\"_parent\"><img src=\"https://colab.research.google.com/assets/colab-badge.svg\" alt=\"Open In Colab\"/></a>"
      ]
    },
    {
      "cell_type": "code",
      "execution_count": 4,
      "metadata": {
        "colab": {
          "base_uri": "https://localhost:8080/"
        },
        "id": "8S5VI7JLQtW2",
        "outputId": "fa854dea-2c30-4507-9e9e-86e8d816f510"
      },
      "outputs": [
        {
          "output_type": "stream",
          "name": "stdout",
          "text": [
            "Requirement already satisfied: fireducks in /usr/local/lib/python3.11/dist-packages (1.2.8)\n",
            "Requirement already satisfied: firefw==1.2.8 in /usr/local/lib/python3.11/dist-packages (from fireducks) (1.2.8)\n",
            "Requirement already satisfied: pandas<2.3.0,>=1.5.3 in /usr/local/lib/python3.11/dist-packages (from fireducks) (2.2.2)\n",
            "Requirement already satisfied: pyarrow<19.1,>=19.0 in /usr/local/lib/python3.11/dist-packages (from fireducks) (19.0.1)\n",
            "Requirement already satisfied: numpy>=1.23.2 in /usr/local/lib/python3.11/dist-packages (from pandas<2.3.0,>=1.5.3->fireducks) (2.0.2)\n",
            "Requirement already satisfied: python-dateutil>=2.8.2 in /usr/local/lib/python3.11/dist-packages (from pandas<2.3.0,>=1.5.3->fireducks) (2.9.0.post0)\n",
            "Requirement already satisfied: pytz>=2020.1 in /usr/local/lib/python3.11/dist-packages (from pandas<2.3.0,>=1.5.3->fireducks) (2025.2)\n",
            "Requirement already satisfied: tzdata>=2022.7 in /usr/local/lib/python3.11/dist-packages (from pandas<2.3.0,>=1.5.3->fireducks) (2025.2)\n",
            "Requirement already satisfied: six>=1.5 in /usr/local/lib/python3.11/dist-packages (from python-dateutil>=2.8.2->pandas<2.3.0,>=1.5.3->fireducks) (1.17.0)\n",
            "✅ Dataset with 10M rows created: financial_data.csv\n"
          ]
        }
      ],
      "source": [
        "# ✅ Install FireDucks\n",
        "!pip install fireducks\n",
        "\n",
        "# ✅ Set benchmark mode for FireDucks\n",
        "import os\n",
        "os.environ[\"FIREDUCKS_FLAGS\"] = \"--benchmark-mode\"\n",
        "\n",
        "import pandas as pd\n",
        "import fireducks.pandas as fd\n",
        "import numpy as np\n",
        "import time\n",
        "\n",
        "# 📊 Create synthetic financial dataset with 10M rows\n",
        "df = pd.DataFrame({\n",
        "    \"account_id\": np.random.randint(10000, 50000, size=10_000_000),\n",
        "    \"region\": np.random.choice([\"North\", \"South\", \"East\", \"West\"], size=10_000_000),\n",
        "    \"amount\": np.random.exponential(scale=1200, size=10_000_000),\n",
        "    \"transaction_type\": np.random.choice([\"deposit\", \"withdrawal\", \"transfer\"], size=10_000_000),\n",
        "    \"timestamp\": pd.date_range(start=\"2023-01-01\", periods=10_000_000, freq='s')\n",
        "})\n",
        "df.to_csv(\"financial_data.csv\", index=False)\n",
        "print(\"✅ Dataset with 10M rows created: financial_data.csv\")"
      ]
    },
    {
      "cell_type": "code",
      "source": [
        "# 📄 Read CSV\n",
        "start = time.time()\n",
        "pandas_df = pd.read_csv(\"financial_data.csv\")\n",
        "print(\"📄 Pandas Read Time:\", round((time.time() - start) * 1000, 2), \"ms\")\n",
        "\n",
        "start = time.time()\n",
        "fd_df = fd.read_csv(\"financial_data.csv\")\n",
        "print(\"🔥 FireDucks Read Time:\", round((time.time() - start) * 1000, 2), \"ms\")"
      ],
      "metadata": {
        "colab": {
          "base_uri": "https://localhost:8080/"
        },
        "id": "6wn-TJQ-Rimu",
        "outputId": "d9bdc415-b697-4579-ca41-9b6063a32145"
      },
      "execution_count": 9,
      "outputs": [
        {
          "output_type": "stream",
          "name": "stdout",
          "text": [
            "📄 Pandas Read Time: 9391.05 ms\n",
            "🔥 FireDucks Read Time: 10.53 ms\n"
          ]
        }
      ]
    },
    {
      "cell_type": "code",
      "source": [
        "# 🔎 Filter high-value transactions (amount > 5000)\n",
        "start = time.time()\n",
        "pandas_filtered = pandas_df[pandas_df['amount'] > 5000]\n",
        "print(\"📉 Pandas Filter Time:\", round((time.time() - start) * 1000, 2), \"ms\")\n",
        "\n",
        "start = time.time()\n",
        "fd_filtered = fd_df[fd_df['amount'] > 5000]\n",
        "print(\"🔥 FireDucks Filter Time:\", round((time.time() - start) * 1000, 2), \"ms\")"
      ],
      "metadata": {
        "colab": {
          "base_uri": "https://localhost:8080/"
        },
        "id": "1gpYkOgMSQ0c",
        "outputId": "06746c69-db9d-47f3-dae8-833a5290c099"
      },
      "execution_count": 6,
      "outputs": [
        {
          "output_type": "stream",
          "name": "stdout",
          "text": [
            "📉 Pandas Filter Time: 73.85 ms\n",
            "🔥 FireDucks Filter Time: 0.78 ms\n"
          ]
        }
      ]
    },
    {
      "cell_type": "code",
      "source": [
        "# 📊 Group by Region: Mean & Total Amount\n",
        "start = time.time()\n",
        "pandas_grouped = pandas_filtered.groupby(\"region\")[\"amount\"].agg([\"mean\", \"sum\"]).reset_index()\n",
        "print(\"📊 Pandas GroupBy Time:\", round((time.time() - start) * 1000, 2), \"ms\")\n",
        "\n",
        "start = time.time()\n",
        "fd_grouped = fd_filtered.groupby(\"region\")[\"amount\"].agg([\"mean\", \"sum\"]).reset_index()\n",
        "print(\"🔥 FireDucks GroupBy Time:\", round((time.time() - start) * 1000, 2), \"ms\")"
      ],
      "metadata": {
        "colab": {
          "base_uri": "https://localhost:8080/"
        },
        "id": "Q_RzX2HZSXMK",
        "outputId": "401e5137-66eb-4289-b6ba-71b890c6ade1"
      },
      "execution_count": 7,
      "outputs": [
        {
          "output_type": "stream",
          "name": "stdout",
          "text": [
            "📊 Pandas GroupBy Time: 12.34 ms\n",
            "🔥 FireDucks GroupBy Time: 2.33 ms\n"
          ]
        }
      ]
    },
    {
      "cell_type": "code",
      "source": [
        "# 🔽 Sort by Total Amount\n",
        "start = time.time()\n",
        "pandas_sorted = pandas_grouped.sort_values(by=\"sum\", ascending=False)\n",
        "print(\"🔽 Pandas Sort Time:\", round((time.time() - start) * 1000, 2), \"ms\")\n",
        "\n",
        "start = time.time()\n",
        "fd_sorted = fd_grouped.sort_values(by=\"sum\", ascending=False)\n",
        "print(\"🔥 FireDucks Sort Time:\", round((time.time() - start) * 1000, 2), \"ms\")"
      ],
      "metadata": {
        "colab": {
          "base_uri": "https://localhost:8080/"
        },
        "id": "k_-Bf1aZSjsv",
        "outputId": "c65d9e81-be4d-4fff-fb82-7949ab2f1ceb"
      },
      "execution_count": 8,
      "outputs": [
        {
          "output_type": "stream",
          "name": "stdout",
          "text": [
            "🔽 Pandas Sort Time: 1.15 ms\n",
            "🔥 FireDucks Sort Time: 0.43 ms\n"
          ]
        }
      ]
    }
  ]
}