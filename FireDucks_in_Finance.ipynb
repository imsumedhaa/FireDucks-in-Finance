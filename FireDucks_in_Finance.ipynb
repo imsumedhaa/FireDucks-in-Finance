{
  "nbformat": 4,
  "nbformat_minor": 0,
  "metadata": {
    "colab": {
      "provenance": [],
      "gpuType": "V28",
      "toc_visible": true,
      "authorship_tag": "ABX9TyP0bubZRVUJLXfOvzmr2eMs",
      "include_colab_link": true
    },
    "kernelspec": {
      "name": "python3",
      "display_name": "Python 3"
    },
    "language_info": {
      "name": "python"
    },
    "accelerator": "TPU"
  },
  "cells": [
    {
      "cell_type": "markdown",
      "metadata": {
        "id": "view-in-github",
        "colab_type": "text"
      },
      "source": [
        "<a href=\"https://colab.research.google.com/github/imsumedhaa/FireDucks-in-Finance/blob/main/FireDucks_in_Finance.ipynb\" target=\"_parent\"><img src=\"https://colab.research.google.com/assets/colab-badge.svg\" alt=\"Open In Colab\"/></a>"
      ]
    },
    {
      "cell_type": "code",
      "execution_count": 16,
      "metadata": {
        "colab": {
          "base_uri": "https://localhost:8080/"
        },
        "id": "8S5VI7JLQtW2",
        "outputId": "2c75d32c-22ac-4a1b-81c9-90b2b2802002"
      },
      "outputs": [
        {
          "output_type": "stream",
          "name": "stdout",
          "text": [
            "Requirement already satisfied: fireducks in /usr/local/lib/python3.11/dist-packages (1.2.8)\n",
            "Requirement already satisfied: firefw==1.2.8 in /usr/local/lib/python3.11/dist-packages (from fireducks) (1.2.8)\n",
            "Requirement already satisfied: pandas<2.3.0,>=1.5.3 in /usr/local/lib/python3.11/dist-packages (from fireducks) (2.2.2)\n",
            "Requirement already satisfied: pyarrow<19.1,>=19.0 in /usr/local/lib/python3.11/dist-packages (from fireducks) (19.0.1)\n",
            "Requirement already satisfied: numpy>=1.23.2 in /usr/local/lib/python3.11/dist-packages (from pandas<2.3.0,>=1.5.3->fireducks) (2.0.2)\n",
            "Requirement already satisfied: python-dateutil>=2.8.2 in /usr/local/lib/python3.11/dist-packages (from pandas<2.3.0,>=1.5.3->fireducks) (2.9.0.post0)\n",
            "Requirement already satisfied: pytz>=2020.1 in /usr/local/lib/python3.11/dist-packages (from pandas<2.3.0,>=1.5.3->fireducks) (2025.2)\n",
            "Requirement already satisfied: tzdata>=2022.7 in /usr/local/lib/python3.11/dist-packages (from pandas<2.3.0,>=1.5.3->fireducks) (2025.2)\n",
            "Requirement already satisfied: six>=1.5 in /usr/local/lib/python3.11/dist-packages (from python-dateutil>=2.8.2->pandas<2.3.0,>=1.5.3->fireducks) (1.17.0)\n",
            "✅ Dataset with 10M rows created: financial_data.csv\n"
          ]
        }
      ],
      "source": [
        "# 1️⃣ Install and Set Up FireDucks\n",
        "!pip install fireducks\n",
        "\n",
        "import os\n",
        "os.environ[\"FIREDUCKS_FLAGS\"] = \"--benchmark-mode\"\n",
        "\n",
        "import pandas as pd\n",
        "import fireducks.pandas as fd\n",
        "import numpy as np\n",
        "import time\n",
        "df = pd.DataFrame({\n",
        "    \"account_id\": np.random.randint(10000, 50000, size=10_000_000),\n",
        "    \"region\": np.random.choice([\"North\", \"South\", \"East\", \"West\"], size=10_000_000),\n",
        "    \"amount\": np.random.exponential(scale=1200, size=10_000_000),\n",
        "    \"transaction_type\": np.random.choice([\"deposit\", \"withdrawal\", \"transfer\"], size=10_000_000),\n",
        "    \"timestamp\": pd.date_range(start=\"2023-01-01\", periods=10_000_000, freq='s')\n",
        "})\n",
        "df.to_csv(\"financial_data.csv\", index=False)\n",
        "print(\"✅ Dataset with 10M rows created: financial_data.csv\")"
      ]
    },
    {
      "cell_type": "code",
      "source": [
        "import platform\n",
        "import psutil\n",
        "import multiprocessing\n",
        "import pandas\n",
        "import fireducks\n",
        "\n",
        "print(\"🔍 System Information:\")\n",
        "print(f\"OS: {platform.system()} {platform.release()}\")\n",
        "print(f\"Processor: {platform.processor()}\")\n",
        "print(f\"CPU cores: {multiprocessing.cpu_count()}\")\n",
        "print(f\"Total RAM: {psutil.virtual_memory().total / (1024**3):.2f} GB\")\n",
        "\n",
        "print(\"\\n📦 Library Versions:\")\n",
        "print(f\"Pandas version: {pandas.__version__}\")\n",
        "print(f\"FireDucks version: {fireducks.__version__}\")\n"
      ],
      "metadata": {
        "colab": {
          "base_uri": "https://localhost:8080/"
        },
        "id": "feta44g1sZl1",
        "outputId": "537b2ad0-f48f-434b-90bd-472d2c576ab1"
      },
      "execution_count": 17,
      "outputs": [
        {
          "output_type": "stream",
          "name": "stdout",
          "text": [
            "🔍 System Information:\n",
            "OS: Linux 6.1.123+\n",
            "Processor: x86_64\n",
            "CPU cores: 96\n",
            "Total RAM: 334.56 GB\n",
            "\n",
            "📦 Library Versions:\n",
            "Pandas version: 2.2.2\n",
            "FireDucks version: 1.2.8\n"
          ]
        }
      ]
    },
    {
      "cell_type": "code",
      "source": [
        "#  Read CSV\n",
        "# Pandas\n",
        "start = time.time()\n",
        "pandas_df = pd.read_csv(\"financial_data.csv\")\n",
        "print(\"📄 Pandas Read Time:\", round((time.time() - start) * 1000, 2), \"ms\")\n",
        "\n",
        "# FireDucks\n",
        "start = time.time()\n",
        "fd_df = fd.read_csv(\"financial_data.csv\")\n",
        "print(\"🔥 FireDucks Read Time:\", round((time.time() - start) * 1000, 2), \"ms\")"
      ],
      "metadata": {
        "colab": {
          "base_uri": "https://localhost:8080/"
        },
        "id": "6wn-TJQ-Rimu",
        "outputId": "d2b4d685-459d-40d1-d6af-6493a7371ad0"
      },
      "execution_count": 32,
      "outputs": [
        {
          "output_type": "stream",
          "name": "stdout",
          "text": [
            "📄 Pandas Read Time: 8971.87 ms\n",
            "🔥 FireDucks Read Time: 1186.74 ms\n"
          ]
        }
      ]
    },
    {
      "cell_type": "code",
      "source": [
        "# Group by Region - Full Dataset\n",
        "start = time.time()\n",
        "pandas_grouped = pandas_df.groupby(\"region\")[\"amount\"].agg([\"mean\", \"sum\"]).reset_index()\n",
        "print(\"📊 Pandas GroupBy Time:\", round((time.time() - start) * 1000, 2), \"ms\")\n",
        "\n",
        "start = time.time()\n",
        "fd_grouped = fd_df.groupby(\"region\")[\"amount\"].agg([\"mean\", \"sum\"]).reset_index()\n",
        "print(\"🔥 FireDucks GroupBy Time:\", round((time.time() - start) * 1000, 2), \"ms\")"
      ],
      "metadata": {
        "colab": {
          "base_uri": "https://localhost:8080/"
        },
        "id": "1gpYkOgMSQ0c",
        "outputId": "0db18f66-7764-49dc-da38-638e9b62f089"
      },
      "execution_count": 33,
      "outputs": [
        {
          "output_type": "stream",
          "name": "stdout",
          "text": [
            "📊 Pandas GroupBy Time: 689.89 ms\n",
            "🔥 FireDucks GroupBy Time: 33.92 ms\n"
          ]
        }
      ]
    },
    {
      "cell_type": "code",
      "source": [
        "# 🔽 Sort original data by 'amount'\n",
        "import time\n",
        "\n",
        "# Pandas sort\n",
        "start = time.time()\n",
        "pandas_sorted = pandas_df.sort_values(by=\"amount\", ascending=False)\n",
        "print(\"📊 Pandas Sort Time:\", round((time.time() - start) * 1000, 2), \"ms\")\n",
        "\n",
        "# FireDucks sort\n",
        "start = time.time()\n",
        "fd_sorted = fd_df.sort_values(by=\"amount\", ascending=False)\n",
        "print(\"🔥 FireDucks Sort Time:\", round((time.time() - start) * 1000, 2), \"ms\")"
      ],
      "metadata": {
        "colab": {
          "base_uri": "https://localhost:8080/"
        },
        "id": "Q_RzX2HZSXMK",
        "outputId": "6f86bf80-9f00-41e9-bd80-c70227682fb3"
      },
      "execution_count": 35,
      "outputs": [
        {
          "output_type": "stream",
          "name": "stdout",
          "text": [
            "📊 Pandas Sort Time: 5942.57 ms\n",
            "🔥 FireDucks Sort Time: 2971.87 ms\n"
          ]
        }
      ]
    },
    {
      "cell_type": "code",
      "source": [
        "# Filter (amount > 5000)\n",
        "start = time.time()\n",
        "pandas_filtered = pandas_df[pandas_df['amount'] > 5000]\n",
        "print(\"📉 Pandas Filter Time:\", round((time.time() - start) * 1000, 2), \"ms\")\n",
        "\n",
        "start = time.time()\n",
        "fd_filtered = fd_df[fd_df['amount'] > 5000]\n",
        "print(\"🔥 FireDucks Filter Time:\", round((time.time() - start) * 1000, 2), \"ms\")"
      ],
      "metadata": {
        "colab": {
          "base_uri": "https://localhost:8080/"
        },
        "id": "k_-Bf1aZSjsv",
        "outputId": "54a1e7ad-628d-4efb-e076-9531af0a03d2"
      },
      "execution_count": 37,
      "outputs": [
        {
          "output_type": "stream",
          "name": "stdout",
          "text": [
            "📉 Pandas Filter Time: 68.2 ms\n",
            "🔥 FireDucks Filter Time: 42.52 ms\n"
          ]
        }
      ]
    }
  ]
}